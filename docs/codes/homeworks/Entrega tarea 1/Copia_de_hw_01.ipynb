{
  "cells": [
    {
      "cell_type": "markdown",
      "metadata": {
        "id": "F1D9hnSyIWq5"
      },
      "source": [
        "<a href=\"https://colab.research.google.com/github/fralfaro/MAT281/blob/main/docs/homeworks/hw_01.ipynb\" target=\"_parent\"><img src=\"https://colab.research.google.com/assets/colab-badge.svg\" alt=\"Open In Colab\"/></a>\n",
        "\n",
        "\n",
        "# MAT281 - Tarea N°01\n",
        "\n"
      ]
    },
    {
      "cell_type": "markdown",
      "metadata": {
        "id": "PQaCTY8oIWq6"
      },
      "source": [
        "\n",
        "\n",
        "## Objetivos de la Tarea\n",
        "\n",
        "El propósito de esta tarea es aplicar herramientas de análisis de datos en Python utilizando pandas, a partir de un conjunto de datos real relacionado con el Índice de Libertad de Prensa.\n",
        "\n",
        "### Objetivos específicos:\n",
        "\n",
        "1. Consolidar y preparar datos provenientes de múltiples archivos con diferencias en formato y estructura.\n",
        "\n",
        "2. Explorar la estructura del conjunto de datos, identificando tipos de datos, valores nulos, duplicados y estadísticas descriptivas.\n",
        "\n",
        "3. Realizar análisis comparativos por país y año utilizando técnicas como `groupby`, `pivot_table` y filtrado condicional.\n",
        "\n",
        "4. Aplicar buenas prácticas en el uso de pandas, favoreciendo funciones vectorizadas y código legible.\n",
        "\n",
        "5. Formular observaciones y conclusiones a partir del análisis de los datos.\n"
      ]
    },
    {
      "cell_type": "markdown",
      "metadata": {
        "id": "8LR7aF-wIWq7"
      },
      "source": [
        "\n",
        "\n",
        "## Instrucciones\n",
        "\n",
        "1. Completa tus datos personales en la celda correspondiente:\n",
        "\n",
        "   * **Nombre**:Pablo Farias\n",
        "   * **Rol USM**:202110517-4\n",
        "\n",
        "2. Este archivo debe ser actualizado con tus respuestas y luego **subido a tu repositorio personal del curso**. Asegúrate de incluir todos los archivos necesarios para su ejecución (datos, imágenes, scripts, etc.).\n",
        "\n",
        "3. La evaluación de la tarea considerará los siguientes aspectos:\n",
        "\n",
        "   * Desarrollo correcto de las soluciones solicitadas.\n",
        "   * Claridad, legibilidad y calidad del código.\n",
        "   * Reproducibilidad: al ejecutar `Kernel → Restart Kernel and Run All Cells`, el notebook debe correr sin errores.\n",
        "\n"
      ]
    },
    {
      "cell_type": "markdown",
      "metadata": {
        "Collapsed": "false",
        "id": "IQZEd5_NIWq8"
      },
      "source": [
        "## I.-  Imagenception\n",
        "\n",
        "Desde [Wikipedia](https://es.wikipedia.org/wiki/RGB), __RGB__ (sigla en inglés de *red*, *green*, *blue*) es un modelo de color basado en la síntesis aditiva, con el que es posible representar un color mediante la mezcla por adición de los tres colores de luz primarios. El modelo de color RGB no define por sí mismo lo que significa exactamente rojo, verde o azul, por lo que los mismos valores RGB pueden mostrar colores notablemente diferentes en distintos dispositivos que usen este modelo de color. Aunque utilicen un mismo modelo de color, sus espacios de color pueden variar considerablemente.\n",
        "\n",
        "Para indicar con qué proporción es mezclado cada color, se asigna un valor a cada uno de los colores primarios, de manera que el valor \"0\" significa que no interviene en la mezcla y, a medida que ese valor aumenta, se entiende que aporta más intensidad a la mezcla. Aunque el intervalo de valores podría ser cualquiera (valores reales entre 0 y 1, valores enteros entre 0 y 37, etc.), es frecuente que cada color primario se codifique con un byte (8 bits).\n",
        "\n",
        "Así, de manera usual, la intensidad de cada una de las componentes se mide según una escala que va del 0 al 255 y cada color es definido por un conjunto de valores escritos entre paréntesis (correspondientes a valores \"R\", \"G\" y \"B\") y separados por comas.\n",
        "\n",
        "El conjunto de todos los colores también se puede representar en forma de cubo. Cada color es un punto de la superficie o del interior de éste. La escala de grises estaría situada en la diagonal que une al color blanco con el negro.\n",
        "\n",
        "![rgb](https://upload.wikimedia.org/wikipedia/commons/thumb/a/a9/Avl3119color4a.svg/800px-Avl3119color4a.svg.png)"
      ]
    },
    {
      "cell_type": "markdown",
      "metadata": {
        "Collapsed": "false",
        "id": "yYTZRNR5IWq8"
      },
      "source": [
        "Para efectos prácticos del curso, es posible representar cada pixel de una imagen con un array de 3 dimensiones, cada valor representa a una de las capas RGB. Por lo tanto, una imagen de $n \\times m$ pixeles se representa como un arreglo de dimension $(n, m , 3)$ En `Python` una de las librerías de procesamiento de imágenes más utilizada es `Pillow`."
      ]
    },
    {
      "cell_type": "markdown",
      "metadata": {
        "id": "eBtwfB4uIWq8"
      },
      "source": [
        "Abrir una imagen es tan fácil como:"
      ]
    },
    {
      "cell_type": "code",
      "execution_count": 1,
      "metadata": {
        "id": "MiZzVwm7IWq9"
      },
      "outputs": [],
      "source": [
        "# librerias\n",
        "\n",
        "import numpy as np\n",
        "from PIL import Image\n",
        "\n",
        "#En el siguiente bloque, si existe el error \"No such file or directory: .... \"\n",
        "#Es debvido a que pueden borrarse las carpetas instaladas. Van a estar adjuntas a la carpeta\n",
        "#a entregar."
      ]
    },
    {
      "cell_type": "code",
      "execution_count": 2,
      "metadata": {
        "id": "AxC2pKw7IWq9",
        "colab": {
          "base_uri": "https://localhost:8080/",
          "height": 274
        },
        "outputId": "ed1f890f-e8d8-4a60-fe5f-b8f86240d107"
      },
      "outputs": [
        {
          "output_type": "error",
          "ename": "FileNotFoundError",
          "evalue": "[Errno 2] No such file or directory: 'sample_data/images/gatito.png'",
          "traceback": [
            "\u001b[0;31m---------------------------------------------------------------------------\u001b[0m",
            "\u001b[0;31mFileNotFoundError\u001b[0m                         Traceback (most recent call last)",
            "\u001b[0;32m/tmp/ipython-input-2529286996.py\u001b[0m in \u001b[0;36m<cell line: 0>\u001b[0;34m()\u001b[0m\n\u001b[0;32m----> 1\u001b[0;31m \u001b[0mgatito\u001b[0m \u001b[0;34m=\u001b[0m \u001b[0mImage\u001b[0m\u001b[0;34m.\u001b[0m\u001b[0mopen\u001b[0m\u001b[0;34m(\u001b[0m\u001b[0;34m\"sample_data/images/gatito.png\"\u001b[0m\u001b[0;34m)\u001b[0m\u001b[0;34m\u001b[0m\u001b[0;34m\u001b[0m\u001b[0m\n\u001b[0m",
            "\u001b[0;32m/usr/local/lib/python3.12/dist-packages/PIL/Image.py\u001b[0m in \u001b[0;36mopen\u001b[0;34m(fp, mode, formats)\u001b[0m\n\u001b[1;32m   3511\u001b[0m     \u001b[0;32mif\u001b[0m \u001b[0mis_path\u001b[0m\u001b[0;34m(\u001b[0m\u001b[0mfp\u001b[0m\u001b[0;34m)\u001b[0m\u001b[0;34m:\u001b[0m\u001b[0;34m\u001b[0m\u001b[0;34m\u001b[0m\u001b[0m\n\u001b[1;32m   3512\u001b[0m         \u001b[0mfilename\u001b[0m \u001b[0;34m=\u001b[0m \u001b[0mos\u001b[0m\u001b[0;34m.\u001b[0m\u001b[0mfspath\u001b[0m\u001b[0;34m(\u001b[0m\u001b[0mfp\u001b[0m\u001b[0;34m)\u001b[0m\u001b[0;34m\u001b[0m\u001b[0;34m\u001b[0m\u001b[0m\n\u001b[0;32m-> 3513\u001b[0;31m         \u001b[0mfp\u001b[0m \u001b[0;34m=\u001b[0m \u001b[0mbuiltins\u001b[0m\u001b[0;34m.\u001b[0m\u001b[0mopen\u001b[0m\u001b[0;34m(\u001b[0m\u001b[0mfilename\u001b[0m\u001b[0;34m,\u001b[0m \u001b[0;34m\"rb\"\u001b[0m\u001b[0;34m)\u001b[0m\u001b[0;34m\u001b[0m\u001b[0;34m\u001b[0m\u001b[0m\n\u001b[0m\u001b[1;32m   3514\u001b[0m         \u001b[0mexclusive_fp\u001b[0m \u001b[0;34m=\u001b[0m \u001b[0;32mTrue\u001b[0m\u001b[0;34m\u001b[0m\u001b[0;34m\u001b[0m\u001b[0m\n\u001b[1;32m   3515\u001b[0m     \u001b[0;32melse\u001b[0m\u001b[0;34m:\u001b[0m\u001b[0;34m\u001b[0m\u001b[0;34m\u001b[0m\u001b[0m\n",
            "\u001b[0;31mFileNotFoundError\u001b[0m: [Errno 2] No such file or directory: 'sample_data/images/gatito.png'"
          ]
        }
      ],
      "source": [
        "gatito = Image.open(\"sample_data/images/gatito.png\") #poner la direccion en la cual se ponen los archivos"
      ]
    },
    {
      "cell_type": "markdown",
      "metadata": {
        "Collapsed": "false",
        "id": "P2uE7bLAIWq9"
      },
      "source": [
        "Notar que la variable anterior es de una clase específica de la librería."
      ]
    },
    {
      "cell_type": "code",
      "execution_count": null,
      "metadata": {
        "id": "AFrP_eDKIWq9"
      },
      "outputs": [],
      "source": [
        "type(gatito)"
      ]
    },
    {
      "cell_type": "markdown",
      "metadata": {
        "Collapsed": "false",
        "id": "nmQjxZY2IWq-"
      },
      "source": [
        "Para ver la imagen en Jupyter puedes utilizar la misma técnica que con los `pd.DataFrames`, es decir:"
      ]
    },
    {
      "cell_type": "code",
      "execution_count": null,
      "metadata": {
        "id": "OEfGfJOlIWq-"
      },
      "outputs": [],
      "source": [
        "gatito"
      ]
    },
    {
      "cell_type": "markdown",
      "metadata": {
        "Collapsed": "false",
        "id": "sONpK77_IWq-"
      },
      "source": [
        "Para tener su representación en un array podemos utilizar el constructor `np.array` con argumento la imagen."
      ]
    },
    {
      "cell_type": "code",
      "execution_count": 3,
      "metadata": {
        "Collapsed": "false",
        "id": "SUZ5TQMzIWq-",
        "outputId": "c3ae97f7-3649-451b-8523-dbb3a6c461fd",
        "colab": {
          "base_uri": "https://localhost:8080/",
          "height": 201
        }
      },
      "outputs": [
        {
          "output_type": "error",
          "ename": "NameError",
          "evalue": "name 'gatito' is not defined",
          "traceback": [
            "\u001b[0;31m---------------------------------------------------------------------------\u001b[0m",
            "\u001b[0;31mNameError\u001b[0m                                 Traceback (most recent call last)",
            "\u001b[0;32m/tmp/ipython-input-267843052.py\u001b[0m in \u001b[0;36m<cell line: 0>\u001b[0;34m()\u001b[0m\n\u001b[0;32m----> 1\u001b[0;31m \u001b[0mgatito_np\u001b[0m \u001b[0;34m=\u001b[0m \u001b[0mnp\u001b[0m\u001b[0;34m.\u001b[0m\u001b[0marray\u001b[0m\u001b[0;34m(\u001b[0m\u001b[0mgatito\u001b[0m\u001b[0;34m)\u001b[0m\u001b[0;34m\u001b[0m\u001b[0;34m\u001b[0m\u001b[0m\n\u001b[0m\u001b[1;32m      2\u001b[0m \u001b[0mprint\u001b[0m\u001b[0;34m(\u001b[0m\u001b[0;34mf\"Dimension de la imagen gatito: {gatito_np.shape}.\\n\"\u001b[0m\u001b[0;34m)\u001b[0m\u001b[0;34m\u001b[0m\u001b[0;34m\u001b[0m\u001b[0m\n\u001b[1;32m      3\u001b[0m \u001b[0mprint\u001b[0m\u001b[0;34m(\u001b[0m\u001b[0;34mf\"Al convertir a np.ndarry el tipo de elementos es {gatito_np.dtype}.\\n\"\u001b[0m\u001b[0;34m)\u001b[0m\u001b[0;34m\u001b[0m\u001b[0;34m\u001b[0m\u001b[0m\n\u001b[1;32m      4\u001b[0m \u001b[0mprint\u001b[0m\u001b[0;34m(\u001b[0m\u001b[0mgatito_np\u001b[0m\u001b[0;34m)\u001b[0m\u001b[0;34m\u001b[0m\u001b[0;34m\u001b[0m\u001b[0m\n",
            "\u001b[0;31mNameError\u001b[0m: name 'gatito' is not defined"
          ]
        }
      ],
      "source": [
        "gatito_np = np.array(gatito)\n",
        "print(f\"Dimension de la imagen gatito: {gatito_np.shape}.\\n\")\n",
        "print(f\"Al convertir a np.ndarry el tipo de elementos es {gatito_np.dtype}.\\n\")\n",
        "print(gatito_np)"
      ]
    },
    {
      "cell_type": "markdown",
      "metadata": {
        "Collapsed": "false",
        "id": "nxC92oeSIWq_"
      },
      "source": [
        "### 1.- Encontrando la imagen oculta\n",
        "\n",
        "La imagen anterior tiene una imagen oculta, el ejercicio corresponde en descifrarlo. Las instrucciones son las siguientes:"
      ]
    },
    {
      "cell_type": "markdown",
      "metadata": {
        "Collapsed": "false",
        "id": "e6BeKTNuIWq_"
      },
      "source": [
        "1.1 Crear una lista vacía declarada como `secret_list`."
      ]
    },
    {
      "cell_type": "code",
      "execution_count": null,
      "metadata": {
        "Collapsed": "false",
        "id": "yHR8tycmIWq_"
      },
      "outputs": [],
      "source": [
        "secret_list = []\n"
      ]
    },
    {
      "cell_type": "markdown",
      "metadata": {
        "Collapsed": "false",
        "id": "tajRO7DEIWq_"
      },
      "source": [
        "1.2 Iterar por cada uno de los canales RGB (`gatito_np.shape[2]`) y en cada iteración:\n",
        " * Crear un arreglo temporal llamado `secret_aux` de dos dimensiones, de la misma dimension de pixeles de la imagen `gatito` y que tenga valores enteros, `0` si el valor de la capa de `gatito_np` es par y `1` si es impar.\n",
        "  - No iterar por filas y columnas.\n",
        "  - Utilizar la operación módulo `%`.\n",
        "  - En la i-ésima iteración de los canales la capa de `gatito_np` es `gatito_np[:, :, i]`.\n",
        "        \n",
        "        \n",
        " * Escalar `secret_aux` a valores 0 y 255.\n",
        "    \n",
        " * Cambiar el `dtype` de `secret_aux` a `np.uint8` (utilize el méteodo `astype()`).\n",
        "            \n",
        " * Agregue `secret_aux` a `secret_list`.\n",
        "    \n",
        "Al final de la iteración `secret_list` debe tener solo tres arreglos.\n",
        "\n",
        "**Observación:** recuerde que puede aplicar operaciones directo a un arreglo de numpy."
      ]
    },
    {
      "cell_type": "code",
      "execution_count": null,
      "metadata": {
        "Collapsed": "false",
        "id": "u-I6aQ-zIWq_"
      },
      "outputs": [],
      "source": [
        "for channel in range(gatito_np.shape[2]):\n",
        "    secret_aux = gatito_np[:, :, channel] % 2\n",
        "    secret_aux = secret_aux * 255\n",
        "    secret_aux = secret_aux.astype(np.uint8)\n",
        "    secret_list.append(secret_aux)"
      ]
    },
    {
      "cell_type": "code",
      "execution_count": null,
      "metadata": {
        "Collapsed": "false",
        "id": "Tgqf6-wZIWq_"
      },
      "outputs": [],
      "source": [
        "print(f\"secret_list tiene {len(secret_list)} elementos\")"
      ]
    },
    {
      "cell_type": "markdown",
      "metadata": {
        "Collapsed": "false",
        "id": "OYubDOiyIWq_"
      },
      "source": [
        "1.3 Crear la variable `secret_np` concatenando horizontalmente los elementos de `secret_list`."
      ]
    },
    {
      "cell_type": "code",
      "execution_count": null,
      "metadata": {
        "Collapsed": "false",
        "id": "kHagWqneIWrA"
      },
      "outputs": [],
      "source": [
        "secret_np = np.concatenate(secret_list, axis=1)\n",
        "secret_np.shape"
      ]
    },
    {
      "cell_type": "markdown",
      "metadata": {
        "Collapsed": "false",
        "id": "bm9u9d6nIWrA"
      },
      "source": [
        "1.4 Crear el objeto `secret_img` utilizando el arreglo `secret_np`, asegurar que los valores estén entre 0 y 255, y que el dtype sea `np.uint8`, con el método `Image.fromarray` con argumento `mode=\"L\"`"
      ]
    },
    {
      "cell_type": "code",
      "execution_count": 4,
      "metadata": {
        "Collapsed": "false",
        "id": "WmoADNI6IWrA",
        "colab": {
          "base_uri": "https://localhost:8080/",
          "height": 147
        },
        "outputId": "942b9a9b-a23e-4aaa-9983-d741a6a3bddc"
      },
      "outputs": [
        {
          "output_type": "error",
          "ename": "NameError",
          "evalue": "name 'secret_np' is not defined",
          "traceback": [
            "\u001b[0;31m---------------------------------------------------------------------------\u001b[0m",
            "\u001b[0;31mNameError\u001b[0m                                 Traceback (most recent call last)",
            "\u001b[0;32m/tmp/ipython-input-3279969780.py\u001b[0m in \u001b[0;36m<cell line: 0>\u001b[0;34m()\u001b[0m\n\u001b[0;32m----> 1\u001b[0;31m \u001b[0mnp\u001b[0m\u001b[0;34m.\u001b[0m\u001b[0munique\u001b[0m\u001b[0;34m(\u001b[0m\u001b[0msecret_np\u001b[0m\u001b[0;34m)\u001b[0m\u001b[0;34m\u001b[0m\u001b[0;34m\u001b[0m\u001b[0m\n\u001b[0m",
            "\u001b[0;31mNameError\u001b[0m: name 'secret_np' is not defined"
          ]
        }
      ],
      "source": [
        "np.unique(secret_np)"
      ]
    },
    {
      "cell_type": "code",
      "execution_count": 5,
      "metadata": {
        "Collapsed": "false",
        "id": "R8gKc3ZGIWrA",
        "colab": {
          "base_uri": "https://localhost:8080/",
          "height": 147
        },
        "outputId": "72637e04-c511-49ea-9825-c82e6f314527"
      },
      "outputs": [
        {
          "output_type": "error",
          "ename": "NameError",
          "evalue": "name 'secret_np' is not defined",
          "traceback": [
            "\u001b[0;31m---------------------------------------------------------------------------\u001b[0m",
            "\u001b[0;31mNameError\u001b[0m                                 Traceback (most recent call last)",
            "\u001b[0;32m/tmp/ipython-input-3485324452.py\u001b[0m in \u001b[0;36m<cell line: 0>\u001b[0;34m()\u001b[0m\n\u001b[0;32m----> 1\u001b[0;31m \u001b[0msecret_np\u001b[0m\u001b[0;34m.\u001b[0m\u001b[0mdtype\u001b[0m\u001b[0;34m\u001b[0m\u001b[0;34m\u001b[0m\u001b[0m\n\u001b[0m",
            "\u001b[0;31mNameError\u001b[0m: name 'secret_np' is not defined"
          ]
        }
      ],
      "source": [
        "secret_np.dtype"
      ]
    },
    {
      "cell_type": "code",
      "execution_count": null,
      "metadata": {
        "Collapsed": "false",
        "id": "tK6YqwY5IWrA"
      },
      "outputs": [],
      "source": [
        "secret_img = Image.fromarray(secret_np, mode=\"L\")"
      ]
    },
    {
      "cell_type": "markdown",
      "metadata": {
        "Collapsed": "false",
        "id": "td6F6Ha3IWrA"
      },
      "source": [
        "Ahora puedes ver el resultado!"
      ]
    },
    {
      "cell_type": "code",
      "execution_count": null,
      "metadata": {
        "Collapsed": "false",
        "id": "QLJIvtPQIWrA"
      },
      "outputs": [],
      "source": [
        "secret_img"
      ]
    },
    {
      "cell_type": "markdown",
      "metadata": {
        "Collapsed": "false",
        "id": "7YA7w5D1IWrA"
      },
      "source": [
        "### 2.- Escondiendo una nueva imagen\n",
        "\n",
        "Es tu turno, ahora tu esconderás una imagen. Las instrucciones son las siguientes:"
      ]
    },
    {
      "cell_type": "markdown",
      "metadata": {
        "Collapsed": "false",
        "id": "O6yJJDGQIWrB"
      },
      "source": [
        "2.1 Selecciona una imagen de 2160 x 3840 pixeles (a.k.a resolución 4k), lo importante es que sea solo en blanco y negro, en la carpeta `images` se disponibiliza como ejemplo la imagen `black_and_white_example.jpg` y crea una variable llamada `my_img` leyendo la imagen seleccionada con `Image.open()`."
      ]
    },
    {
      "cell_type": "code",
      "execution_count": null,
      "metadata": {
        "Collapsed": "false",
        "id": "Ua48Cn-1IWrB"
      },
      "outputs": [],
      "source": [
        "my_img = Image.open(\"images/black_and_white_example.jpg\")"
      ]
    },
    {
      "cell_type": "markdown",
      "metadata": {
        "Collapsed": "false",
        "id": "ucKZbNWgIWrB"
      },
      "source": [
        "2.2 Crea un arreglo llamado `my_img_np` utilizando `my_img` y el método `np.array()`.\n",
        "    * Es importante que `my_img_np.shape` sea `(2160, 3840)`, es decir, que solo sea de dos dimensiones. Esto porque es una imagen en blanco y negro, no necesitando el modelo RGB."
      ]
    },
    {
      "cell_type": "code",
      "execution_count": null,
      "metadata": {
        "Collapsed": "false",
        "id": "ZP_pUPefIWrB"
      },
      "outputs": [],
      "source": [
        "my_img_np = np.array(my_img)\n",
        "print(my_img_np.shape)"
      ]
    },
    {
      "cell_type": "markdown",
      "metadata": {
        "Collapsed": "false",
        "id": "L5RLSgznIWrB"
      },
      "source": [
        "2.3 Crear la variable `my_img_np_aux` utilizando un _umbral_ con tal de que:\n",
        "    - 1: Si el valor del pixel es mayor  al _umbral_.\n",
        "    - 0: Si el valor del pixel es menor o igual al _umbral_.\n",
        "    - El `dtype` debe ser `np.uint8`.\n",
        "    - Para `black_and_white_example.jpg` un umbral adecuado es `20`."
      ]
    },
    {
      "cell_type": "code",
      "execution_count": null,
      "metadata": {
        "Collapsed": "false",
        "id": "AF_BjkyrIWrB"
      },
      "outputs": [],
      "source": [
        "umbral = 20\n",
        "my_img_np_aux = (my_img_np > umbral).astype(np.uint8)"
      ]
    },
    {
      "cell_type": "markdown",
      "metadata": {
        "Collapsed": "false",
        "id": "Wjwf8_7TIWrB"
      },
      "source": [
        "Puedes probar que tan bien quedó la imagen con la siguiente linea. Si crees que no se ve bien, puedes cambiar el _umbral_."
      ]
    },
    {
      "cell_type": "code",
      "execution_count": null,
      "metadata": {
        "Collapsed": "false",
        "id": "5GQQyqOEIWrB"
      },
      "outputs": [],
      "source": [
        "Image.fromarray(my_img_np_aux * 255)"
      ]
    },
    {
      "cell_type": "markdown",
      "metadata": {
        "Collapsed": "false",
        "id": "pll6O6qRIWrB"
      },
      "source": [
        "2.4 Dividir la imagen en tres arreglos de tamaño (2160, 1280) y guardarlos en una lista con el nombre `my_img_split`. Hint: Revisa en la documentación de `numpy`."
      ]
    },
    {
      "cell_type": "code",
      "execution_count": null,
      "metadata": {
        "Collapsed": "false",
        "id": "6xkm8_b6IWrC"
      },
      "outputs": [],
      "source": [
        "my_img_split = np.array_split(my_img_np_aux, 3, axis=1)"
      ]
    },
    {
      "cell_type": "markdown",
      "metadata": {
        "Collapsed": "false",
        "id": "jx8VwcgiIWrJ"
      },
      "source": [
        "Revisa utilizando la siguiente iteración."
      ]
    },
    {
      "cell_type": "code",
      "execution_count": null,
      "metadata": {
        "Collapsed": "false",
        "id": "YAMH0aeyIWrJ"
      },
      "outputs": [],
      "source": [
        "for img_array in my_img_split:\n",
        "    print(img_array.shape)"
      ]
    },
    {
      "cell_type": "markdown",
      "metadata": {
        "Collapsed": "false",
        "id": "kyW7OWzYIWrJ"
      },
      "source": [
        "2.5 La imagen donde se esconderá tu imagen selecionada está en la carpeta `images` con el nombre `gatito_original.png`, que sospechosamente es de 2160 x 1280 pixeles. Carga la imagen en la variable `cat` y luego crea arreglo `cat_np` utilizando `cat`. Verifica que `cat_np.shape = (2160, 1280, 3)`."
      ]
    },
    {
      "cell_type": "code",
      "execution_count": 6,
      "metadata": {
        "Collapsed": "false",
        "id": "iP-PnBAXIWrK",
        "colab": {
          "base_uri": "https://localhost:8080/",
          "height": 311
        },
        "outputId": "70ca5bda-7e98-4a10-9054-18a7e77422c3"
      },
      "outputs": [
        {
          "output_type": "error",
          "ename": "FileNotFoundError",
          "evalue": "[Errno 2] No such file or directory: 'images/gatito_original.png'",
          "traceback": [
            "\u001b[0;31m---------------------------------------------------------------------------\u001b[0m",
            "\u001b[0;31mFileNotFoundError\u001b[0m                         Traceback (most recent call last)",
            "\u001b[0;32m/tmp/ipython-input-3770919550.py\u001b[0m in \u001b[0;36m<cell line: 0>\u001b[0;34m()\u001b[0m\n\u001b[0;32m----> 1\u001b[0;31m \u001b[0mcat\u001b[0m \u001b[0;34m=\u001b[0m \u001b[0mImage\u001b[0m\u001b[0;34m.\u001b[0m\u001b[0mopen\u001b[0m\u001b[0;34m(\u001b[0m\u001b[0;34m\"images/gatito_original.png\"\u001b[0m\u001b[0;34m)\u001b[0m\u001b[0;34m\u001b[0m\u001b[0;34m\u001b[0m\u001b[0m\n\u001b[0m\u001b[1;32m      2\u001b[0m \u001b[0mcat_np\u001b[0m \u001b[0;34m=\u001b[0m \u001b[0mnp\u001b[0m\u001b[0;34m.\u001b[0m\u001b[0marray\u001b[0m\u001b[0;34m(\u001b[0m\u001b[0mcat\u001b[0m\u001b[0;34m)\u001b[0m\u001b[0;34m\u001b[0m\u001b[0;34m\u001b[0m\u001b[0m\n\u001b[1;32m      3\u001b[0m \u001b[0mprint\u001b[0m\u001b[0;34m(\u001b[0m\u001b[0mcat_np\u001b[0m\u001b[0;34m.\u001b[0m\u001b[0mshape\u001b[0m\u001b[0;34m)\u001b[0m\u001b[0;34m\u001b[0m\u001b[0;34m\u001b[0m\u001b[0m\n",
            "\u001b[0;32m/usr/local/lib/python3.12/dist-packages/PIL/Image.py\u001b[0m in \u001b[0;36mopen\u001b[0;34m(fp, mode, formats)\u001b[0m\n\u001b[1;32m   3511\u001b[0m     \u001b[0;32mif\u001b[0m \u001b[0mis_path\u001b[0m\u001b[0;34m(\u001b[0m\u001b[0mfp\u001b[0m\u001b[0;34m)\u001b[0m\u001b[0;34m:\u001b[0m\u001b[0;34m\u001b[0m\u001b[0;34m\u001b[0m\u001b[0m\n\u001b[1;32m   3512\u001b[0m         \u001b[0mfilename\u001b[0m \u001b[0;34m=\u001b[0m \u001b[0mos\u001b[0m\u001b[0;34m.\u001b[0m\u001b[0mfspath\u001b[0m\u001b[0;34m(\u001b[0m\u001b[0mfp\u001b[0m\u001b[0;34m)\u001b[0m\u001b[0;34m\u001b[0m\u001b[0;34m\u001b[0m\u001b[0m\n\u001b[0;32m-> 3513\u001b[0;31m         \u001b[0mfp\u001b[0m \u001b[0;34m=\u001b[0m \u001b[0mbuiltins\u001b[0m\u001b[0;34m.\u001b[0m\u001b[0mopen\u001b[0m\u001b[0;34m(\u001b[0m\u001b[0mfilename\u001b[0m\u001b[0;34m,\u001b[0m \u001b[0;34m\"rb\"\u001b[0m\u001b[0;34m)\u001b[0m\u001b[0;34m\u001b[0m\u001b[0;34m\u001b[0m\u001b[0m\n\u001b[0m\u001b[1;32m   3514\u001b[0m         \u001b[0mexclusive_fp\u001b[0m \u001b[0;34m=\u001b[0m \u001b[0;32mTrue\u001b[0m\u001b[0;34m\u001b[0m\u001b[0;34m\u001b[0m\u001b[0m\n\u001b[1;32m   3515\u001b[0m     \u001b[0;32melse\u001b[0m\u001b[0;34m:\u001b[0m\u001b[0;34m\u001b[0m\u001b[0;34m\u001b[0m\u001b[0m\n",
            "\u001b[0;31mFileNotFoundError\u001b[0m: [Errno 2] No such file or directory: 'images/gatito_original.png'"
          ]
        }
      ],
      "source": [
        "cat = Image.open(\"images/gatito_original.png\")\n",
        "cat_np = np.array(cat)\n",
        "print(cat_np.shape)"
      ]
    },
    {
      "cell_type": "markdown",
      "metadata": {
        "Collapsed": "false",
        "id": "QSwUmM72IWrK"
      },
      "source": [
        "2.6 Convierte todos los valores de `cat_np` a valores pares. Esto lo puedes hacer sumando 1 a cada valor de arreglo si es impar"
      ]
    },
    {
      "cell_type": "code",
      "execution_count": null,
      "metadata": {
        "Collapsed": "false",
        "id": "crF5yiZ1IWrK"
      },
      "outputs": [],
      "source": [
        "cat_np = cat_np + 1\n",
        "cat_np[cat_np % 2 == 1]"
      ]
    },
    {
      "cell_type": "markdown",
      "metadata": {
        "Collapsed": "false",
        "id": "lGsSQdugIWrK"
      },
      "source": [
        "2.7 Itera por canal RGB de `cat_np` y en cada capa suma los valores de uno de los arreglos de `my_img_split`."
      ]
    },
    {
      "cell_type": "code",
      "execution_count": null,
      "metadata": {
        "Collapsed": "false",
        "id": "9CgsdgCoIWrK"
      },
      "outputs": [],
      "source": [
        "for channel in range(cat_np.shape[2]):\n",
        "    cat_np[:, :, channel] = cat_np[:, :, channel] + my_img_split[channel]"
      ]
    },
    {
      "cell_type": "markdown",
      "metadata": {
        "Collapsed": "false",
        "id": "FhHKfkEDIWrK"
      },
      "source": [
        "2.8 Crea una variable llamada `cat_secret_im` con `Image.fromarray` y la variable `cat_np` (que ya ha sido modificada). Luego guarda la imagen en la carpeta `images` con el nombre `my_secret.png`."
      ]
    },
    {
      "cell_type": "code",
      "execution_count": null,
      "metadata": {
        "Collapsed": "false",
        "id": "gkAz_pSvIWrK"
      },
      "outputs": [],
      "source": [
        "cat_secret_im = Image.fromarray(cat_np)\n",
        "cat_secret_im.save(\"images/my_secret.png\")"
      ]
    },
    {
      "cell_type": "markdown",
      "metadata": {
        "Collapsed": "false",
        "id": "a3CRbr7IIWrK"
      },
      "source": [
        "2.9 Crea una función llamada `imagenception()` que como argumento tenga la ruta de la imagen que quieres descifrar y que descifre la imagen secreta recientemente creada. Hint: Utiliza todos los pasos de la primera parte."
      ]
    },
    {
      "cell_type": "code",
      "execution_count": null,
      "metadata": {
        "Collapsed": "false",
        "id": "EXF09LbFIWrK"
      },
      "outputs": [],
      "source": [
        "def imagenception(filepath):\n",
        "    secret_list = []\n",
        "    img = Image.open(filepath)\n",
        "    img_np = np.array(img)\n",
        "    for channel in range(img_np.shape[2]):\n",
        "        secret_aux = img_np[:, :, channel] % 2\n",
        "    return secret_img"
      ]
    },
    {
      "cell_type": "code",
      "execution_count": null,
      "metadata": {
        "Collapsed": "false",
        "id": "fjnUrVi1IWrK"
      },
      "outputs": [],
      "source": [
        "my_secret_img = imagenception(\"images/my_secret.png\")\n",
        "my_secret_img"
      ]
    },
    {
      "cell_type": "markdown",
      "metadata": {
        "Collapsed": "false",
        "id": "rK0vheRSIWrL"
      },
      "source": [
        "## II.- Analizando la Felicidad\n",
        "\n",
        "<img src=\"https://static01.nyt.com/images/2019/09/29/opinion/sunday/29HolsonStill/29HolsonStill-popup.jpg\" width=\"480\" height=\"360\" align=\"center\"/>\n",
        "\n",
        "Este ejercicio es netamente análisis de datos, tratando de abarcar problemas típicos como la lectura de datos, corrección de errores, métricas agrupadas, unión de datos, etc. Utilizaremos un conjunto de datos llamado __World Happiness Report__ disponible en el siguiente [link](https://www.kaggle.com/unsdsn/world-happiness), de donde se puede obtener información al respecto.\n",
        "\n",
        "#### Context\n",
        "The World Happiness Report is a landmark survey of the state of global happiness. The first report was published in 2012, the second in 2013, the third in 2015, and the fourth in the 2016 Update. The World Happiness 2017, which ranks 155 countries by their happiness levels, was released at the United Nations at an event celebrating International Day of Happiness on March 20th. The report continues to gain global recognition as governments, organizations and civil society increasingly use happiness indicators to inform their policy-making decisions. Leading experts across fields – economics, psychology, survey analysis, national statistics, health, public policy and more – describe how measurements of well-being can be used effectively to assess the progress of nations. The reports review the state of happiness in the world today and show how the new science of happiness explains personal and national variations in happiness.\n",
        "\n",
        "#### Content\n",
        "The happiness scores and rankings use data from the Gallup World Poll. The scores are based on answers to the main life evaluation question asked in the poll. This question, known as the Cantril ladder, asks respondents to think of a ladder with the best possible life for them being a 10 and the worst possible life being a 0 and to rate their own current lives on that scale. The scores are from nationally representative samples for the years 2013-2016 and use the Gallup weights to make the estimates representative. The columns following the happiness score estimate the extent to which each of six factors – economic production, social support, life expectancy, freedom, absence of corruption, and generosity – contribute to making life evaluations higher in each country than they are in Dystopia, a hypothetical country that has values equal to the world’s lowest national averages for each of the six factors. They have no impact on the total score reported for each country, but they do explain why some countries rank higher than others.\n"
      ]
    },
    {
      "cell_type": "markdown",
      "metadata": {
        "Collapsed": "false",
        "id": "Z97WTFnlIWrL"
      },
      "source": [
        "### 2.1 Lectura de datos"
      ]
    },
    {
      "cell_type": "code",
      "execution_count": null,
      "metadata": {
        "id": "rFpvIRcvIWrL"
      },
      "outputs": [],
      "source": [
        "# libraries\n",
        "import pandas as pd\n",
        "pd.set_option(\"display.max_columns\", 999)  # Permite mostrar hasta 999 columnas de un DataFrame en Jupyter."
      ]
    },
    {
      "cell_type": "markdown",
      "metadata": {
        "Collapsed": "false",
        "id": "_aTXC6hEIWrL"
      },
      "source": [
        "En la carpeta `data/world-happiness` se disponen de tres archivos, uno por cada reporte anual (años 2015, 2016 y 2017). No es de sorprender que envíen un archivo por año (podría ser mensual, semestral, etc.), lo imortante es ser capaces de leer una cantidad __variable__ de archivos al mismo tiempo. Una buena práctica es crear un diccionario de dataframes."
      ]
    },
    {
      "cell_type": "code",
      "execution_count": null,
      "metadata": {
        "Collapsed": "false",
        "id": "gwzZTisBIWrL"
      },
      "outputs": [],
      "source": [
        "# Comprehension dictionary\n",
        "df_dict = {\n",
        "    year: pd.read_csv(f\"data/world-happiness/{year}.csv\").assign(Year=year)\n",
        "    for year in [2015, 2016, 2017]\n",
        "}"
      ]
    },
    {
      "cell_type": "markdown",
      "metadata": {
        "Collapsed": "false",
        "id": "WgB85zEnIWrL"
      },
      "source": [
        "Por ejemplo, se puede acceder al DataFrame asociado al archivo `data/world-happiness/2016.csv` de la siguiente manera:"
      ]
    },
    {
      "cell_type": "markdown",
      "metadata": {
        "Collapsed": "false",
        "id": "IcN4GWFtIWrL"
      },
      "source": [
        "Una pequeña descripción de las columnas\n",
        "\n",
        "* `Country` Name of the country.\n",
        "* `Region` Region the country belongs to.\n",
        "* `Happiness Rank` Rank of the country based on the Happiness Score.\n",
        "* `Happiness Score` A metric measured in 2015 by asking the sampled people the question: \"How would you rate your happiness on a scale of 0 to 10 where 10 is the happiest.\"\n",
        "* `Standard Error` The standard error of the happiness score.\n",
        "* `Economy (GDP per Capita)` The extent to which GDP contributes to the calculation of the Happiness Score.\n",
        "* `Family` The extent to which Family contributes to the calculation of the Happiness Score\n",
        "* `Health (Life Expectancy)` The extent to which Life expectancy contributed to the calculation of the Happiness Score\n",
        "* `Freedom` The extent to which Freedom contributed to the calculation of the Happiness Score.\n",
        "* `Trust (Government Corruption)` The extent to which Perception of Corruption contributes to Happiness Score.\n",
        "* `Generosity` The extent to which Generosity contributed to the calculation of the Happiness Score.\n",
        "* `Dystopia Residual` The extent to which Dystopia Residual contributed to the calculation of the Happiness Score."
      ]
    },
    {
      "cell_type": "markdown",
      "metadata": {
        "Collapsed": "false",
        "id": "Q59mlCgIIWrL"
      },
      "source": [
        "Notar que los conjuntos de datos no poseen las mismas columnas, por lo tanto, solo se trabajarán con las columnas en común y posteriormente agregaremos el año con tal de concatenar los tres conjuntos."
      ]
    },
    {
      "cell_type": "code",
      "execution_count": null,
      "metadata": {
        "Collapsed": "false",
        "id": "0d_dcq-RIWrM"
      },
      "outputs": [],
      "source": [
        "from functools import reduce\n",
        "intersection_columns = reduce(np.intersect1d, [df_i.columns.values for df_i in df_dict.values()]).tolist()\n",
        "print(intersection_columns)"
      ]
    },
    {
      "cell_type": "markdown",
      "metadata": {
        "Collapsed": "false",
        "id": "Egmt9ziJIWrM"
      },
      "source": [
        "Explica con tus palabras las operaciones que se realizaron para obtener la variable `intersection_columns`."
      ]
    },
    {
      "cell_type": "markdown",
      "metadata": {
        "Collapsed": "false",
        "id": "Adn6ZLLJIWrM"
      },
      "source": [
        "__Respuesta:__ < RESPONDER AQUÍ >"
      ]
    },
    {
      "cell_type": "markdown",
      "metadata": {
        "Collapsed": "false",
        "id": "IExmcAQ2IWrM"
      },
      "source": [
        "### 2.2 Concatenación y procesado"
      ]
    },
    {
      "cell_type": "markdown",
      "metadata": {
        "Collapsed": "false",
        "id": "9P516CDFIWrM"
      },
      "source": [
        "Define el DataFrame `happiness` tal que:\n",
        "\n",
        "* Sea la concatenación de los dataframes de `df_dict`\n",
        "* Resetea los índices.\n",
        "* Selecciona solo las columnas de la lista `intersection_columns`.\n",
        "* Los nombres de las columnas deben estar en minísculas, reemplazar espacios por guiones bajos (`_`) y elimina los paréntesis.\n"
      ]
    },
    {
      "cell_type": "code",
      "execution_count": 7,
      "metadata": {
        "Collapsed": "false",
        "id": "3TRg6cJSIWrM",
        "colab": {
          "base_uri": "https://localhost:8080/",
          "height": 220
        },
        "outputId": "4b7526cd-ef4f-41bb-9263-dddc7fa8b031"
      },
      "outputs": [
        {
          "output_type": "error",
          "ename": "NameError",
          "evalue": "name 'pd' is not defined",
          "traceback": [
            "\u001b[0;31m---------------------------------------------------------------------------\u001b[0m",
            "\u001b[0;31mNameError\u001b[0m                                 Traceback (most recent call last)",
            "\u001b[0;32m/tmp/ipython-input-4047037466.py\u001b[0m in \u001b[0;36m<cell line: 0>\u001b[0;34m()\u001b[0m\n\u001b[1;32m      1\u001b[0m happiness = (\n\u001b[0;32m----> 2\u001b[0;31m     \u001b[0mpd\u001b[0m\u001b[0;34m.\u001b[0m\u001b[0mconcat\u001b[0m\u001b[0;34m(\u001b[0m\u001b[0mdf_dict\u001b[0m\u001b[0;34m.\u001b[0m\u001b[0mvalues\u001b[0m\u001b[0;34m(\u001b[0m\u001b[0;34m)\u001b[0m\u001b[0;34m)\u001b[0m\u001b[0;34m\u001b[0m\u001b[0;34m\u001b[0m\u001b[0m\n\u001b[0m\u001b[1;32m      3\u001b[0m     \u001b[0;34m.\u001b[0m\u001b[0mreset_index\u001b[0m\u001b[0;34m(\u001b[0m\u001b[0mdrop\u001b[0m\u001b[0;34m=\u001b[0m\u001b[0;32mTrue\u001b[0m\u001b[0;34m)\u001b[0m\u001b[0;34m\u001b[0m\u001b[0;34m\u001b[0m\u001b[0m\n\u001b[1;32m      4\u001b[0m     \u001b[0;34m.\u001b[0m\u001b[0mloc\u001b[0m\u001b[0;34m[\u001b[0m\u001b[0;34m:\u001b[0m\u001b[0;34m,\u001b[0m \u001b[0mintersection_columns\u001b[0m\u001b[0;34m]\u001b[0m\u001b[0;34m\u001b[0m\u001b[0;34m\u001b[0m\u001b[0m\n\u001b[1;32m      5\u001b[0m     \u001b[0;34m.\u001b[0m\u001b[0mrename\u001b[0m\u001b[0;34m(\u001b[0m\u001b[0mcolumns\u001b[0m\u001b[0;34m=\u001b[0m\u001b[0;32mlambda\u001b[0m \u001b[0mx\u001b[0m\u001b[0;34m:\u001b[0m \u001b[0mx\u001b[0m\u001b[0;34m.\u001b[0m\u001b[0mlower\u001b[0m\u001b[0;34m(\u001b[0m\u001b[0;34m)\u001b[0m\u001b[0;34m.\u001b[0m\u001b[0mreplace\u001b[0m\u001b[0;34m(\u001b[0m\u001b[0;34m\" \"\u001b[0m\u001b[0;34m,\u001b[0m \u001b[0;34m\"_\"\u001b[0m\u001b[0;34m)\u001b[0m\u001b[0;34m.\u001b[0m\u001b[0mreplace\u001b[0m\u001b[0;34m(\u001b[0m\u001b[0;34m\"(\"\u001b[0m\u001b[0;34m,\u001b[0m \u001b[0;34m\"\"\u001b[0m\u001b[0;34m)\u001b[0m\u001b[0;34m.\u001b[0m\u001b[0mreplace\u001b[0m\u001b[0;34m(\u001b[0m\u001b[0;34m\")\"\u001b[0m\u001b[0;34m,\u001b[0m \u001b[0;34m\"\"\u001b[0m\u001b[0;34m)\u001b[0m\u001b[0;34m)\u001b[0m\u001b[0;34m\u001b[0m\u001b[0;34m\u001b[0m\u001b[0m\n",
            "\u001b[0;31mNameError\u001b[0m: name 'pd' is not defined"
          ]
        }
      ],
      "source": [
        "happiness = (\n",
        "    pd.concat(df_dict.values())\n",
        "    .reset_index(drop=True)\n",
        "    .loc[:, intersection_columns]\n",
        "    .rename(columns=lambda x: x.lower().replace(\" \", \"_\").replace(\"(\", \"\").replace(\")\", \"\"))\n",
        ")\n",
        "happiness.head()"
      ]
    },
    {
      "cell_type": "markdown",
      "metadata": {
        "Collapsed": "false",
        "id": "mZFcoYx0IWrM"
      },
      "source": [
        "### 2.3 Análisis"
      ]
    },
    {
      "cell_type": "markdown",
      "metadata": {
        "Collapsed": "false",
        "id": "LWkmzZGDIWrM"
      },
      "source": [
        "Como siempre, partimos con un análisis descriptivo simple."
      ]
    },
    {
      "cell_type": "code",
      "execution_count": 8,
      "metadata": {
        "Collapsed": "false",
        "id": "ImwIrRloIWrM",
        "colab": {
          "base_uri": "https://localhost:8080/",
          "height": 147
        },
        "outputId": "991de326-c316-4b5d-9598-b1c6fa99c44d"
      },
      "outputs": [
        {
          "output_type": "error",
          "ename": "NameError",
          "evalue": "name 'happiness' is not defined",
          "traceback": [
            "\u001b[0;31m---------------------------------------------------------------------------\u001b[0m",
            "\u001b[0;31mNameError\u001b[0m                                 Traceback (most recent call last)",
            "\u001b[0;32m/tmp/ipython-input-4092037950.py\u001b[0m in \u001b[0;36m<cell line: 0>\u001b[0;34m()\u001b[0m\n\u001b[0;32m----> 1\u001b[0;31m \u001b[0mhappiness\u001b[0m\u001b[0;34m.\u001b[0m\u001b[0mdescribe\u001b[0m\u001b[0;34m(\u001b[0m\u001b[0minclude\u001b[0m\u001b[0;34m=\u001b[0m\u001b[0;34m\"all\"\u001b[0m\u001b[0;34m)\u001b[0m\u001b[0;34m.\u001b[0m\u001b[0mfillna\u001b[0m\u001b[0;34m(\u001b[0m\u001b[0;34m\"\"\u001b[0m\u001b[0;34m)\u001b[0m\u001b[0;34m.\u001b[0m\u001b[0mT\u001b[0m\u001b[0;34m\u001b[0m\u001b[0;34m\u001b[0m\u001b[0m\n\u001b[0m",
            "\u001b[0;31mNameError\u001b[0m: name 'happiness' is not defined"
          ]
        }
      ],
      "source": [
        "happiness.describe(include=\"all\").fillna(\"\").T"
      ]
    },
    {
      "cell_type": "markdown",
      "metadata": {
        "Collapsed": "false",
        "id": "QEuhh1X8IWrM"
      },
      "source": [
        "¿Cuántos países no tienen mediciones de felicidad en los tres años del estudio? ¿Cuáles son?"
      ]
    },
    {
      "cell_type": "code",
      "execution_count": null,
      "metadata": {
        "Collapsed": "false",
        "id": "vq0sQ5-EIWrN"
      },
      "outputs": [],
      "source": [
        "contador_años_pais = happiness.groupby(\"country\")[\"year\"].nunique()\n",
        "paieses_que_no_son = contador_años_pais[contador_años_pais < 3].index.tolist()\n",
        "print(f\"numero de paises que no tienen mediciones de felicidad: {len(paieses_que_no_son)}\")\n",
        "print(f\"los paises en cuestion: {paieses_que_no_son}\")"
      ]
    },
    {
      "cell_type": "markdown",
      "metadata": {
        "id": "G_YpXMhnIWrN"
      },
      "source": [
        "__Respuesta__: Son 20 paises, los cuales estan descritos en el pritn anterior."
      ]
    },
    {
      "cell_type": "markdown",
      "metadata": {
        "Collapsed": "false",
        "id": "JdnLdLRsIWrN"
      },
      "source": [
        "Note que la lista de países proveniente de la pregunta anterior tiene errores de consistencia, por ejemplo están los registros de `Hong Kong` y `Hong Kong S.A.R., China` que escencialmente son el mismo. Lo mismo ocurre con `Taiwan` y `Somaliland Region`.\n",
        "\n",
        "Modifique la columna `country` del dataframe `happiness` con tal de reparar los errores de `Hong Kong`, `Taiwan` y `Somaliland Region`."
      ]
    },
    {
      "cell_type": "code",
      "execution_count": null,
      "metadata": {
        "Collapsed": "false",
        "id": "7PYDK5l8IWrN"
      },
      "outputs": [],
      "source": [
        "bad_country_names_dict = {\"Hong Kong S.A.R., China\": \"Hong Kong\", \"Taiwan Province of China\": \"Taiwan\", \"Somaliland region\": \"Somaliland Region\"}\n",
        "happiness = happiness.assign(country=happiness[\"country\"].replace(bad_country_names_dict))"
      ]
    },
    {
      "cell_type": "markdown",
      "metadata": {
        "Collapsed": "false",
        "id": "sRC_mta8IWrN"
      },
      "source": [
        "Luego de la modificación, ¿Cuántos países no tienen mediciones en los tres años de estudio?"
      ]
    },
    {
      "cell_type": "code",
      "execution_count": null,
      "metadata": {
        "Collapsed": "false",
        "id": "sqlTMKCnIWrN"
      },
      "outputs": [],
      "source": [
        "x = happiness.groupby(\"country\")[\"year\"].nunique()\n",
        "x[x < 3].count()"
      ]
    },
    {
      "cell_type": "markdown",
      "metadata": {
        "Collapsed": "false",
        "id": "EDzCaXKYIWrN"
      },
      "source": [
        "Pivotea el dataframe `happines` tal que los índices sean los años, las columnas los países y el valor su `happiness_score`. LLena los valores nulos con un _string_ vacío `\"\"`. Un país no puede tener más de un registro por año, por lo que puedes utilizar directamente el médoto `pd.DataFrame.pivot()`.\n"
      ]
    },
    {
      "cell_type": "code",
      "execution_count": 9,
      "metadata": {
        "Collapsed": "false",
        "id": "BHGSyWKrIWrN",
        "colab": {
          "base_uri": "https://localhost:8080/",
          "height": 165
        },
        "outputId": "3c90f98b-f3fd-4b81-a11f-63bbd2f7557b"
      },
      "outputs": [
        {
          "output_type": "error",
          "ename": "NameError",
          "evalue": "name 'happiness' is not defined",
          "traceback": [
            "\u001b[0;31m---------------------------------------------------------------------------\u001b[0m",
            "\u001b[0;31mNameError\u001b[0m                                 Traceback (most recent call last)",
            "\u001b[0;32m/tmp/ipython-input-1495709451.py\u001b[0m in \u001b[0;36m<cell line: 0>\u001b[0;34m()\u001b[0m\n\u001b[0;32m----> 1\u001b[0;31m \u001b[0mhappiness_pivot\u001b[0m \u001b[0;34m=\u001b[0m \u001b[0mhappiness\u001b[0m\u001b[0;34m.\u001b[0m\u001b[0mpivot\u001b[0m\u001b[0;34m(\u001b[0m\u001b[0mindex\u001b[0m\u001b[0;34m=\u001b[0m\u001b[0;34m\"year\"\u001b[0m\u001b[0;34m,\u001b[0m \u001b[0mcolumns\u001b[0m\u001b[0;34m=\u001b[0m\u001b[0;34m\"country\"\u001b[0m\u001b[0;34m,\u001b[0m \u001b[0mvalues\u001b[0m\u001b[0;34m=\u001b[0m\u001b[0;34m\"happiness_score\"\u001b[0m\u001b[0;34m)\u001b[0m\u001b[0;34m.\u001b[0m\u001b[0mfillna\u001b[0m\u001b[0;34m(\u001b[0m\u001b[0;34m\"\"\u001b[0m\u001b[0;34m)\u001b[0m\u001b[0;34m\u001b[0m\u001b[0;34m\u001b[0m\u001b[0m\n\u001b[0m\u001b[1;32m      2\u001b[0m \u001b[0mhappiness_pivot\u001b[0m\u001b[0;34m\u001b[0m\u001b[0;34m\u001b[0m\u001b[0m\n",
            "\u001b[0;31mNameError\u001b[0m: name 'happiness' is not defined"
          ]
        }
      ],
      "source": [
        "happiness_pivot = happiness.pivot(index=\"year\", columns=\"country\", values=\"happiness_score\").fillna(\"\")\n",
        "happiness_pivot\n"
      ]
    },
    {
      "cell_type": "markdown",
      "metadata": {
        "Collapsed": "false",
        "id": "EyIDHTTSIWrN"
      },
      "source": [
        "¿Qué información podrías sacar rápidamente de esta tabla pivoteada? ¿Podrías decir que siempre es útil pivotear una tabla?"
      ]
    },
    {
      "cell_type": "markdown",
      "metadata": {
        "id": "8f724257"
      },
      "source": [
        "**Respuesta:**\n",
        "\n",
        "De esta tabla se puede ver rapidamente la felicidad de cada pais por año y compararlos. Pivotar sirve para ver una variable (como la felicidad) cruzando dos cosas (aqui, años y países). No siempre es útil, depende de lo que se necesite utilizar"
      ]
    },
    {
      "cell_type": "markdown",
      "metadata": {
        "Collapsed": "false",
        "id": "VoVZrkrLIWrO"
      },
      "source": [
        "__Respuesta:__  < RESPONDER AQUÍ >\n",
        "\n",
        "*   Elemento de lista\n",
        "*   Elemento de lista\n",
        "\n"
      ]
    },
    {
      "cell_type": "markdown",
      "metadata": {
        "Collapsed": "false",
        "id": "ApJ-aRXxIWrO"
      },
      "source": [
        "En promedio, ¿Cuáles son los tres países con el mayor _score_ de felicidad?"
      ]
    },
    {
      "cell_type": "code",
      "execution_count": null,
      "metadata": {
        "Collapsed": "false",
        "id": "oAXY8OvRIWrO"
      },
      "outputs": [],
      "source": [
        "promedio_felicidad_por_pais = happiness.groupby(\"country\")[\"happiness_score\"].mean()\n",
        "top_3_paises_mas_felices = promedio_felicidad_por_pais.nlargest(3)\n",
        "print(\"Los tres países con el mayor score de felicidad en promedio son:\")\n",
        "print(top_3_paises_mas_felices)"
      ]
    },
    {
      "cell_type": "markdown",
      "metadata": {
        "id": "YsPXYM5AIWrO"
      },
      "source": [
        "__Respuesta:__  el top 3 es suiza, dinamarca e islanda.\n"
      ]
    },
    {
      "cell_type": "markdown",
      "metadata": {
        "Collapsed": "false",
        "id": "d-KfrWKdIWrO"
      },
      "source": [
        "Calcula el promedio anual de todas las columnas factores de felicidad, es decir, todas las variables numéricas excepto `happiness_score` y `happiness_rank`."
      ]
    },
    {
      "cell_type": "code",
      "execution_count": null,
      "metadata": {
        "id": "ELOOczTEIWrO"
      },
      "outputs": [],
      "source": [
        "hap_mean_factors = happiness.groupby(\"year\").mean(numeric_only=True)\n",
        "hap_mean_factors = hap_mean_factors.drop(columns=[\"happiness_rank\", \"happiness_score\"])\n",
        "hap_mean_factors"
      ]
    },
    {
      "cell_type": "markdown",
      "metadata": {
        "Collapsed": "false",
        "id": "3DLmI32vIWrO"
      },
      "source": [
        "Respecto al cálculo anterior, para cada uno de los años, ¿Cuál es el factor que más contribuye (en promedio) al _score_ de la felicidad y en qué medida?"
      ]
    },
    {
      "cell_type": "code",
      "execution_count": 10,
      "metadata": {
        "Collapsed": "false",
        "id": "qFLshmnTIWrO",
        "colab": {
          "base_uri": "https://localhost:8080/",
          "height": 220
        },
        "outputId": "cb13d066-2195-4566-aa0f-7b4a37a2d44f"
      },
      "outputs": [
        {
          "output_type": "error",
          "ename": "NameError",
          "evalue": "name 'hap_mean_factors' is not defined",
          "traceback": [
            "\u001b[0;31m---------------------------------------------------------------------------\u001b[0m",
            "\u001b[0;31mNameError\u001b[0m                                 Traceback (most recent call last)",
            "\u001b[0;32m/tmp/ipython-input-400434334.py\u001b[0m in \u001b[0;36m<cell line: 0>\u001b[0;34m()\u001b[0m\n\u001b[0;32m----> 1\u001b[0;31m \u001b[0mfactor_contribuente\u001b[0m \u001b[0;34m=\u001b[0m \u001b[0mhap_mean_factors\u001b[0m\u001b[0;34m.\u001b[0m\u001b[0midxmax\u001b[0m\u001b[0;34m(\u001b[0m\u001b[0maxis\u001b[0m\u001b[0;34m=\u001b[0m\u001b[0;36m1\u001b[0m\u001b[0;34m)\u001b[0m\u001b[0;34m\u001b[0m\u001b[0;34m\u001b[0m\u001b[0m\n\u001b[0m\u001b[1;32m      2\u001b[0m \u001b[0mvalor_mas_contributivo\u001b[0m \u001b[0;34m=\u001b[0m \u001b[0mhap_mean_factors\u001b[0m\u001b[0;34m.\u001b[0m\u001b[0mmax\u001b[0m\u001b[0;34m(\u001b[0m\u001b[0maxis\u001b[0m\u001b[0;34m=\u001b[0m\u001b[0;36m1\u001b[0m\u001b[0;34m)\u001b[0m\u001b[0;34m\u001b[0m\u001b[0;34m\u001b[0m\u001b[0m\n\u001b[1;32m      3\u001b[0m \u001b[0mprint\u001b[0m\u001b[0;34m(\u001b[0m\u001b[0;34m\"El factor que más contribuye (en promedio) al score de la felicidad por año es:\"\u001b[0m\u001b[0;34m)\u001b[0m\u001b[0;34m\u001b[0m\u001b[0;34m\u001b[0m\u001b[0m\n\u001b[1;32m      4\u001b[0m \u001b[0mprint\u001b[0m\u001b[0;34m(\u001b[0m\u001b[0mfactor_contribuente\u001b[0m\u001b[0;34m)\u001b[0m\u001b[0;34m\u001b[0m\u001b[0;34m\u001b[0m\u001b[0m\n\u001b[1;32m      5\u001b[0m \u001b[0mprint\u001b[0m\u001b[0;34m(\u001b[0m\u001b[0;34m\"\\nLa medida (valor promedio) de ese factor por año es:\"\u001b[0m\u001b[0;34m)\u001b[0m\u001b[0;34m\u001b[0m\u001b[0;34m\u001b[0m\u001b[0m\n",
            "\u001b[0;31mNameError\u001b[0m: name 'hap_mean_factors' is not defined"
          ]
        }
      ],
      "source": [
        "factor_contribuente = hap_mean_factors.idxmax(axis=1)\n",
        "valor_mas_contributivo = hap_mean_factors.max(axis=1)\n",
        "print(\"El factor que más contribuye (en promedio) al score de la felicidad por año es:\")\n",
        "print(factor_contribuente)\n",
        "print(\"\\nLa medida (valor promedio) de ese factor por año es:\")\n",
        "print(valor_mas_contributivo)"
      ]
    },
    {
      "cell_type": "markdown",
      "metadata": {
        "id": "blcV2CaVIWrO"
      },
      "source": [
        "__Respuesta:__  El factor que mas contribuye en promedio al score de felicidad  es dystopia_residual. y sus valores son 2015: 2.098977, 2016: 2.325807, 2017: 1.850238\n",
        "\n"
      ]
    },
    {
      "cell_type": "markdown",
      "metadata": {
        "Collapsed": "false",
        "id": "4Yhm4ik8IWrO"
      },
      "source": [
        "### 2.4 Agregando más datos"
      ]
    },
    {
      "cell_type": "markdown",
      "metadata": {
        "Collapsed": "false",
        "id": "nJcmDrUhIWrP"
      },
      "source": [
        "A continuación, agregaremos un nuevo conjunto de datos, el que contiene estadísticas de suicidio por años, países y rangos etáreos. Se encuentra disponible en el siguiente [link](https://www.kaggle.com/russellyates88/suicide-rates-overview-1985-to-2016)."
      ]
    },
    {
      "cell_type": "code",
      "execution_count": null,
      "metadata": {
        "Collapsed": "false",
        "id": "2WJ6qO6RIWrP"
      },
      "outputs": [],
      "source": [
        "suicide = pd.read_csv(\"data/world-happiness/suicide_rates.csv\")\n",
        "suicide.head()"
      ]
    },
    {
      "cell_type": "markdown",
      "metadata": {
        "Collapsed": "false",
        "id": "izNUT5BJIWrP"
      },
      "source": [
        "La mayoría de las columnas son autoexplicativas.\n",
        "* `country`\n",
        "* `year`\n",
        "* `sex`\n",
        "* `age`\n",
        "* `suicides_no`\n",
        "* `population`\n",
        "* `suicides/100k pop`\n",
        "* `country-year`\n",
        "* `HDI for year` Human Development Index\n",
        "* `gdp_for_year ($)` Gross Domestic Product\n",
        "* `gdp_per_capita ($)`\n",
        "* `generation` based on age grouping average"
      ]
    },
    {
      "cell_type": "markdown",
      "metadata": {
        "Collapsed": "false",
        "id": "gAUGkMgGIWrP"
      },
      "source": [
        "Un poco de estadística descriptiva."
      ]
    },
    {
      "cell_type": "code",
      "execution_count": null,
      "metadata": {
        "Collapsed": "false",
        "id": "YmlGkldQIWrP"
      },
      "outputs": [],
      "source": [
        "suicide.describe(include=\"all\").fillna(\"\").T"
      ]
    },
    {
      "cell_type": "markdown",
      "metadata": {
        "Collapsed": "false",
        "id": "g4ixyTCFIWrP"
      },
      "source": [
        "Crea un nuevo DataFrame llamado suicide_agg siguiendo las siguientes instrucciones:\n",
        "\n",
        "* Agrupa por país y año.\n",
        "* Suma la población y el número de suicidios.\n",
        "* Resetea los índices.\n",
        "* Agrega una nueva columna llamada `suicides_ratio_100k` formada por la división de `suicides_no` y `population`, para posteriormente muliplicarla por 100,000.\n",
        "* Agrega una nuevale columna llamada `suicides_rank` similar a `happiness_rank`, es decir, que asigne un orden __por año__ a cada país según la columna `suicides_ratio_100k` tal que el rank 1 corresponda al que tenga mayor `suicides_ratio_100k`. Hint: Usa el método `rank()`."
      ]
    },
    {
      "cell_type": "code",
      "execution_count": null,
      "metadata": {
        "Collapsed": "false",
        "id": "CoZTZ0I_IWrP"
      },
      "outputs": [],
      "source": [
        "# Es posible hacer todas las operaciones encadenadas!\n",
        "suicides_agg = (\n",
        "    suicide.groupby([\"country\", \"year\"])[[\"suicides_no\", \"population\"]]\n",
        "    .agg(\"sum\")\n",
        "    .reset_index()\n",
        "    .assign(\n",
        "        suicides_ratio_100k=lambda x: (x[\"suicides_no\"] / x[\"population\"]) * 100_000,\n",
        "        suicides_rank=lambda x: x.groupby(\"year\")[\"suicides_ratio_100k\"].rank(ascending=False)\n",
        "    )\n",
        ")"
      ]
    },
    {
      "cell_type": "markdown",
      "metadata": {
        "Collapsed": "false",
        "id": "p5Y4t8RQIWrP"
      },
      "source": [
        "Crea un nuevo DataFrame con el nombre `hap_sui` al unir `happiness` y `suicides_agg` tal que coincidan país y año, quédate con solo los registros que coincidan en ambas DataFrames."
      ]
    },
    {
      "cell_type": "code",
      "execution_count": null,
      "metadata": {
        "Collapsed": "false",
        "id": "yN2F3vu0IWrP"
      },
      "outputs": [],
      "source": [
        "hap_sui = happiness.merge(suicides_agg, on=[\"country\", \"year\"])\n",
        "hap_sui.head()"
      ]
    },
    {
      "cell_type": "markdown",
      "metadata": {
        "Collapsed": "false",
        "id": "jb89xCryIWrP"
      },
      "source": [
        "¿Qué tipo de correlación lineal hay entre las variables `happiness_rank` y `suicides_rank`?"
      ]
    },
    {
      "cell_type": "code",
      "execution_count": 11,
      "metadata": {
        "Collapsed": "false",
        "id": "d6DQFALRIWrP",
        "colab": {
          "base_uri": "https://localhost:8080/",
          "height": 147
        },
        "outputId": "62c26e90-5efc-408c-975e-efcb580f4153"
      },
      "outputs": [
        {
          "output_type": "error",
          "ename": "NameError",
          "evalue": "name 'hap_sui' is not defined",
          "traceback": [
            "\u001b[0;31m---------------------------------------------------------------------------\u001b[0m",
            "\u001b[0;31mNameError\u001b[0m                                 Traceback (most recent call last)",
            "\u001b[0;32m/tmp/ipython-input-2085626112.py\u001b[0m in \u001b[0;36m<cell line: 0>\u001b[0;34m()\u001b[0m\n\u001b[0;32m----> 1\u001b[0;31m \u001b[0mhap_sui\u001b[0m\u001b[0;34m.\u001b[0m\u001b[0mloc\u001b[0m\u001b[0;34m[\u001b[0m\u001b[0;34m:\u001b[0m\u001b[0;34m,\u001b[0m \u001b[0;34m[\u001b[0m\u001b[0;34m\"happiness_rank\"\u001b[0m\u001b[0;34m,\u001b[0m \u001b[0;34m\"suicides_rank\"\u001b[0m\u001b[0;34m]\u001b[0m\u001b[0;34m]\u001b[0m\u001b[0;34m.\u001b[0m\u001b[0mcorr\u001b[0m\u001b[0;34m(\u001b[0m\u001b[0;34m)\u001b[0m\u001b[0;34m\u001b[0m\u001b[0;34m\u001b[0m\u001b[0m\n\u001b[0m",
            "\u001b[0;31mNameError\u001b[0m: name 'hap_sui' is not defined"
          ]
        }
      ],
      "source": [
        "hap_sui.loc[:, [\"happiness_rank\", \"suicides_rank\"]].corr()"
      ]
    },
    {
      "cell_type": "markdown",
      "metadata": {
        "Collapsed": "false",
        "id": "nbRpbVMuIWrQ"
      },
      "source": [
        "¿Qué tipo de correlación lineal hay entre las variables `happiness_rank` y `suicides_rank` por cada año?"
      ]
    },
    {
      "cell_type": "code",
      "execution_count": null,
      "metadata": {
        "Collapsed": "false",
        "id": "u47jxKXOIWrQ"
      },
      "outputs": [],
      "source": [
        " hap_sui.groupby(\"year\")[[\"happiness_rank\", \"suicides_rank\"]].corr()\n"
      ]
    },
    {
      "cell_type": "markdown",
      "metadata": {
        "id": "_AikiONdIWrQ"
      },
      "source": [
        "__Respuesta:__  La correlación lineal entre happiness_rank y suicides_rank por cada año es cercana a cero, lo que indica una correlación lineal muy débil o inexistente entre el ranking de felicidad y el ranking de suicidios para los años 2015 y 2016 en los países analizados. Esto significa que no hay una relación lineal clara donde países con un alto ranking de felicidad tiendan a tener un alto o bajo ranking de suicidios, o viceversa, basándose en estos datos.\n",
        "\n",
        "\n",
        "\n"
      ]
    },
    {
      "cell_type": "markdown",
      "metadata": {
        "Collapsed": "false",
        "id": "w7T6nhKzIWrQ"
      },
      "source": [
        "¿La respuesta de las dos preguntas anteriores cambia si se utilizan las variables `happiness_score` y `suicides_ratio_100k`?"
      ]
    },
    {
      "cell_type": "code",
      "execution_count": null,
      "metadata": {
        "Collapsed": "false",
        "id": "hIG2HxHGIWrQ"
      },
      "outputs": [],
      "source": [
        " hap_sui.groupby(\"year\")[[\"happiness_score\", \"suicides_ratio_100k\"]].corr()"
      ]
    },
    {
      "cell_type": "markdown",
      "metadata": {
        "id": "WJMV34SGIWrQ"
      },
      "source": [
        "__Respuesta:__  si, si cambian, se nota al diferenciar las 2 respuestas en suicides_ratio_100k, con hapinness no al aprecer."
      ]
    },
    {
      "cell_type": "markdown",
      "metadata": {
        "Collapsed": "false",
        "id": "mqHLNV-4IWrQ"
      },
      "source": [
        "### III.- Índices de Costos de Vida\n",
        "\n",
        "<img src=\"https://i.pinimg.com/originals/e7/dd/38/e7dd3861c4d30a2826515a8861300db7.png\" width=\"480\" height=\"360\" align=\"center\"/>"
      ]
    },
    {
      "cell_type": "markdown",
      "metadata": {
        "id": "iFntyaZEIWrQ"
      },
      "source": [
        "Estos índices están ajustados a la Ciudad de Nueva York (NYC). Lo que significa que para la Ciudad de Nueva York, cada índice debería marcar 100(%). Si otra ciudad tiene, por ejemplo, un índice de alquiler de 120, significa que en esa ciudad se paga de media por el alquiler un 20% más que en Nueva York. Si una ciudad tiene un índice de alquiler de 70, significa que en esa ciudad los alquileres son de media un 30% más baratos que en Nueva York.\n",
        "\n",
        "* El Índice de Costo de Vida (Sin Alquiler) es un indicador relativo de los precios de bienes de consumo, incluyendo comestibles, restaurantes, transporte y servicios. El Índice de Costo de Vida no incluye gastos de residencia como alquileres o hipotecas. Si una ciudad tiene un Costo de Vida de 120, significa que Numbeo estima que es un 20% más cara que Nueva York (sin contar alquiler).\n",
        "\n",
        "* El Índice de Alquiler es una estimación de precios de alquiler de apartamentos de una ciudad comparada con Nueva York. Si el Índice de Alquiler es 80, Numbeo estima que el precio de los alquileres en esa ciudad es de media un 20% más barato que en Nueva York.\n",
        "\n",
        "* El Índice de Comestibles es una estimación de los precios de la compra de una ciudad en comparación con Nueva York. Para calcular esta sección, Numbeo utiliza el peso de los artículos en la sección \"Mercados\" por cada ciudad.\n",
        "\n",
        "* El Índice de Restaurantes es una comparación de precios de comidas y bebidas en bares y restaurantes en comparación con NY.\n",
        "\n",
        "* El Índice de Costo de Vida más Alquiler es una estimación de precios de consumo incluyendo alquiler en comparación con la Ciudad de Nueva York.\n",
        "\n",
        "* El Poder Adquisitivo Local muestra la capacidad adquisitiva relativa a la hora de comprar bienes y servicios en una ciudad determinada, con relación al salario medio de la ciudad. Si el poder adquisitivo doméstico es 40, significa que los habitantes de dicha ciudad con salario medio pueden permitirse comprar una media de 60% menos bienes y servicios que los habitantes de Nueva York con salario medio.\n",
        "\n",
        "Para más información sobre los pesos utilizados (fórmula completa) puedes visitar: [motivación y metodología](https://es.numbeo.com/coste-de-vida/motivaci%C3%B3n-y-metodolog%C3%ADa)."
      ]
    },
    {
      "cell_type": "markdown",
      "metadata": {
        "id": "UeJrqnLRIWrQ"
      },
      "source": [
        "Para comenzar es necesario instalar el paquete `lxml` en tu entorno virtual de conda para poder descargar los datos. Basta con ejecutar:"
      ]
    },
    {
      "cell_type": "code",
      "execution_count": null,
      "metadata": {
        "id": "CJBDHOTeIWrR"
      },
      "outputs": [],
      "source": [
        "# instalar lxml\n",
        "!pip install lxml"
      ]
    },
    {
      "cell_type": "markdown",
      "metadata": {
        "id": "4e6rFjXpIWrR"
      },
      "source": [
        "Se disponibiliza a continuación la carga de datos de un dataframe."
      ]
    },
    {
      "cell_type": "code",
      "execution_count": null,
      "metadata": {
        "id": "zgtlkfQMIWrR"
      },
      "outputs": [],
      "source": [
        "import numpy as np\n",
        "import pandas as pd\n",
        "import matplotlib.pyplot as plt\n",
        "\n",
        "pd.set_option('display.max_columns', 999)\n",
        "%matplotlib inline"
      ]
    },
    {
      "cell_type": "code",
      "execution_count": 12,
      "metadata": {
        "id": "YNQl-3TpIWrR",
        "colab": {
          "base_uri": "https://localhost:8080/",
          "height": 220
        },
        "outputId": "f9ba6415-a8b9-47ac-9916-5cc5431a0a7d"
      },
      "outputs": [
        {
          "output_type": "error",
          "ename": "NameError",
          "evalue": "name 'pd' is not defined",
          "traceback": [
            "\u001b[0;31m---------------------------------------------------------------------------\u001b[0m",
            "\u001b[0;31mNameError\u001b[0m                                 Traceback (most recent call last)",
            "\u001b[0;32m/tmp/ipython-input-3453473835.py\u001b[0m in \u001b[0;36m<cell line: 0>\u001b[0;34m()\u001b[0m\n\u001b[1;32m      1\u001b[0m \u001b[0myears\u001b[0m \u001b[0;34m=\u001b[0m \u001b[0;34m[\u001b[0m\u001b[0;36m2015\u001b[0m\u001b[0;34m,\u001b[0m \u001b[0;36m2016\u001b[0m\u001b[0;34m,\u001b[0m \u001b[0;36m2017\u001b[0m\u001b[0;34m,\u001b[0m \u001b[0;36m2018\u001b[0m\u001b[0;34m,\u001b[0m \u001b[0;36m2019\u001b[0m\u001b[0;34m,\u001b[0m \u001b[0;36m2020\u001b[0m\u001b[0;34m]\u001b[0m\u001b[0;34m\u001b[0m\u001b[0;34m\u001b[0m\u001b[0m\n\u001b[1;32m      2\u001b[0m life_cost = (\n\u001b[0;32m----> 3\u001b[0;31m     pd.concat(\n\u001b[0m\u001b[1;32m      4\u001b[0m         {\n\u001b[1;32m      5\u001b[0m             year: (\n",
            "\u001b[0;31mNameError\u001b[0m: name 'pd' is not defined"
          ]
        }
      ],
      "source": [
        "years = [2015, 2016, 2017, 2018, 2019, 2020]\n",
        "life_cost = (\n",
        "    pd.concat(\n",
        "        {\n",
        "            year: (\n",
        "                pd.read_html(f\"https://www.numbeo.com/cost-of-living/rankings.jsp?title={year}\")[1]\n",
        "                .rename(columns=lambda x: x.lower().replace(\" \", \"_\"))\n",
        "                .assign(rank=lambda x: x.index + 1)\n",
        "                .set_index(\"rank\")\n",
        "            ) for year in years\n",
        "        }\n",
        "    )\n",
        "    .rename_axis([\"year\", \"rank\"])\n",
        "    .reset_index()\n",
        ")\n",
        "life_cost.head()"
      ]
    },
    {
      "cell_type": "markdown",
      "metadata": {
        "id": "KNzRbl-hIWrR"
      },
      "source": [
        "### Ejercicio 3.1\n",
        "\n",
        "Explique lo que se hizo en la celda anterior detalladamente."
      ]
    },
    {
      "cell_type": "markdown",
      "metadata": {
        "id": "7b044120"
      },
      "source": [
        "**respuesta** :\n",
        "\n",
        "En general, lo que se hizo fue cargar datos de costo de vida de una pagina web para los años 2015 a 2020. Se leyo la tabla de cada año, se limpio un poco (cambiando nombres de columnas) y luego se juntaron todas las tablas en una sola. Al final, el resultado es un dataframe con el costo de vida de varias ciudades por año."
      ]
    },
    {
      "cell_type": "markdown",
      "metadata": {
        "id": "lDMlbcGZIWrR"
      },
      "source": [
        "### Ejercicio 3.2\n",
        "\n",
        "Genera un histograma del índice del costo de vida (sin alquiler) para cada año (es decir, 6 histogramas).\n",
        "\n",
        "¿Qué conclusión puedes sacar de estos gráficos?"
      ]
    },
    {
      "cell_type": "code",
      "execution_count": null,
      "metadata": {
        "scrolled": true,
        "id": "tYvrBSzwIWrR"
      },
      "outputs": [],
      "source": [
        "generador_histograma = life_cost.hist(column='cost_of_living_index', by='year', figsize=(15, 10))\n",
        "plt.suptitle('Histograma del Índice de Costo de Vida por Año', y=1.02)\n",
        "plt.tight_layout()\n",
        "plt.show()"
      ]
    },
    {
      "cell_type": "markdown",
      "metadata": {
        "id": "4oG7hf1wIWrR"
      },
      "source": [
        "### Ejercicio 3.3\n",
        "\n",
        "Grafica el índice de restaurantes a través de los años para diez ciudades escogidas pseudo-aleatoriamente (variable `my_cities` de la celda siguiente) en un mismo gráfico. Recuerda escoger el tipo de gráfico adecuadamente.\n",
        "\n",
        "¿Ves alguna relación? ¿Qué podrías decir del gráfico? ¿Por qué no graficar todas las ciudades en lugar de solo escoger algunas?"
      ]
    },
    {
      "cell_type": "code",
      "execution_count": null,
      "metadata": {
        "id": "LcqfOoikIWrR"
      },
      "outputs": [],
      "source": [
        "rol_seed = 202110517  # Escribe tu rol UTFSM sin número verificador\n",
        "my_cities = life_cost[\"city\"].drop_duplicates().sample(n=10, random_state=rol_seed).values"
      ]
    },
    {
      "cell_type": "code",
      "execution_count": null,
      "metadata": {
        "id": "HSg_ybxDIWrR"
      },
      "outputs": [],
      "source": [
        "# Filtrar el DataFrame para las ciudades seleccionadas\n",
        "datos_filtrados = life_cost[life_cost['city'].isin(my_cities)]\n",
        "\n",
        "# Crear el grafico de lineas\n",
        "plt.figure(figsize=(15, 7))\n",
        "for ciudad in my_cities:\n",
        "    datos_ciudad = datos_filtrados[datos_filtrados['city'] == ciudad]\n",
        "    plt.plot(datos_ciudad['year'], datos_ciudad['restaurant_price_index'], marker='o', label=ciudad)\n",
        "\n",
        "# Configurar el grafico\n",
        "plt.title('Indice de Restaurantes a lo largo de los Años para Ciudades Seleccionadas')\n",
        "plt.xlabel('Año')\n",
        "plt.ylabel('Indice de Restaurantes')\n",
        "plt.grid(True)\n",
        "plt.legend(title='Ciudad', bbox_to_anchor=(1.05, 1), loc='upper left')\n",
        "plt.tight_layout()\n",
        "plt.show()"
      ]
    },
    {
      "cell_type": "markdown",
      "source": [
        "__OPINION:__ podemos analizar el grafico diciendo que el que mas restaurantes tenia es Leiden, Netherlands, pero luego el 2020 lo supero Seattle, WA, USA. Pero en verdad se mantuvo mas que subio, entonces el de Leiden bajo drasticamente, lo que lo puso en segundo lugar. Existen otros restaurantes como el de Oklahoma, OK, USA, que solo desaparecio, u otros que estuvieron un tiempo. Que el costo de vida varia, junto con esto, y se hace ver una variacion entre cada lugar junto con sus restaurantes.\n"
      ],
      "metadata": {
        "id": "UCVGooza-MfB"
      }
    }
  ],
  "metadata": {
    "kernelspec": {
      "display_name": "Python 3 (ipykernel)",
      "language": "python",
      "name": "python3"
    },
    "language_info": {
      "codemirror_mode": {
        "name": "ipython",
        "version": 3
      },
      "file_extension": ".py",
      "mimetype": "text/x-python",
      "name": "python",
      "nbconvert_exporter": "python",
      "pygments_lexer": "ipython3",
      "version": "3.10.11"
    },
    "colab": {
      "provenance": []
    }
  },
  "nbformat": 4,
  "nbformat_minor": 0
}